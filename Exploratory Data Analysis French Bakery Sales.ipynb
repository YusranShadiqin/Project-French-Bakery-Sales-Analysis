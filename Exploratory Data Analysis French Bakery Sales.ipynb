{
 "cells": [
  {
   "cell_type": "markdown",
   "id": "da25e20a",
   "metadata": {},
   "source": [
    "### Import Library Pandas, Numpy, Matplotlib, and Seaborn"
   ]
  },
  {
   "cell_type": "code",
   "execution_count": 1,
   "id": "4f5596ce",
   "metadata": {},
   "outputs": [],
   "source": [
    "import pandas as pd\n",
    "import numpy as np\n",
    "import matplotlib.pyplot as plt\n",
    "import seaborn as sns\n",
    "from datetime import time"
   ]
  },
  {
   "cell_type": "code",
   "execution_count": 2,
   "id": "bfabf59c",
   "metadata": {},
   "outputs": [],
   "source": [
    "data = pd.read_excel('Bakery sales.xlsx')"
   ]
  },
  {
   "cell_type": "code",
   "execution_count": 3,
   "id": "ca6c51b6",
   "metadata": {},
   "outputs": [
    {
     "data": {
      "text/html": [
       "<div>\n",
       "<style scoped>\n",
       "    .dataframe tbody tr th:only-of-type {\n",
       "        vertical-align: middle;\n",
       "    }\n",
       "\n",
       "    .dataframe tbody tr th {\n",
       "        vertical-align: top;\n",
       "    }\n",
       "\n",
       "    .dataframe thead th {\n",
       "        text-align: right;\n",
       "    }\n",
       "</style>\n",
       "<table border=\"1\" class=\"dataframe\">\n",
       "  <thead>\n",
       "    <tr style=\"text-align: right;\">\n",
       "      <th></th>\n",
       "      <th>date</th>\n",
       "      <th>time</th>\n",
       "      <th>ticket_number</th>\n",
       "      <th>article</th>\n",
       "      <th>Quantity</th>\n",
       "      <th>unit_price</th>\n",
       "      <th>Price in Rupiah</th>\n",
       "      <th>Total Price</th>\n",
       "    </tr>\n",
       "  </thead>\n",
       "  <tbody>\n",
       "    <tr>\n",
       "      <th>0</th>\n",
       "      <td>2021-01-02</td>\n",
       "      <td>08:38:00</td>\n",
       "      <td>150040.0</td>\n",
       "      <td>BAGUETTE</td>\n",
       "      <td>1</td>\n",
       "      <td>0.90</td>\n",
       "      <td>14555.70</td>\n",
       "      <td>14555.70</td>\n",
       "    </tr>\n",
       "    <tr>\n",
       "      <th>1</th>\n",
       "      <td>2021-01-02</td>\n",
       "      <td>08:38:00</td>\n",
       "      <td>150040.0</td>\n",
       "      <td>PAIN AU CHOCOLAT</td>\n",
       "      <td>3</td>\n",
       "      <td>1.20</td>\n",
       "      <td>19407.60</td>\n",
       "      <td>58222.80</td>\n",
       "    </tr>\n",
       "    <tr>\n",
       "      <th>2</th>\n",
       "      <td>2021-01-02</td>\n",
       "      <td>09:14:00</td>\n",
       "      <td>150041.0</td>\n",
       "      <td>PAIN AU CHOCOLAT</td>\n",
       "      <td>2</td>\n",
       "      <td>1.20</td>\n",
       "      <td>19407.60</td>\n",
       "      <td>38815.20</td>\n",
       "    </tr>\n",
       "    <tr>\n",
       "      <th>3</th>\n",
       "      <td>2021-01-02</td>\n",
       "      <td>09:14:00</td>\n",
       "      <td>150041.0</td>\n",
       "      <td>PAIN</td>\n",
       "      <td>1</td>\n",
       "      <td>1.15</td>\n",
       "      <td>18598.95</td>\n",
       "      <td>18598.95</td>\n",
       "    </tr>\n",
       "    <tr>\n",
       "      <th>4</th>\n",
       "      <td>2021-01-02</td>\n",
       "      <td>09:25:00</td>\n",
       "      <td>150042.0</td>\n",
       "      <td>TRADITIONAL BAGUETTE</td>\n",
       "      <td>5</td>\n",
       "      <td>1.20</td>\n",
       "      <td>19407.60</td>\n",
       "      <td>97038.00</td>\n",
       "    </tr>\n",
       "  </tbody>\n",
       "</table>\n",
       "</div>"
      ],
      "text/plain": [
       "        date      time  ticket_number               article  Quantity  \\\n",
       "0 2021-01-02  08:38:00       150040.0              BAGUETTE         1   \n",
       "1 2021-01-02  08:38:00       150040.0      PAIN AU CHOCOLAT         3   \n",
       "2 2021-01-02  09:14:00       150041.0      PAIN AU CHOCOLAT         2   \n",
       "3 2021-01-02  09:14:00       150041.0                  PAIN         1   \n",
       "4 2021-01-02  09:25:00       150042.0  TRADITIONAL BAGUETTE         5   \n",
       "\n",
       "   unit_price  Price in Rupiah  Total Price  \n",
       "0        0.90         14555.70     14555.70  \n",
       "1        1.20         19407.60     58222.80  \n",
       "2        1.20         19407.60     38815.20  \n",
       "3        1.15         18598.95     18598.95  \n",
       "4        1.20         19407.60     97038.00  "
      ]
     },
     "execution_count": 3,
     "metadata": {},
     "output_type": "execute_result"
    }
   ],
   "source": [
    "data.head()"
   ]
  },
  {
   "cell_type": "code",
   "execution_count": 4,
   "id": "7429c714",
   "metadata": {},
   "outputs": [
    {
     "data": {
      "text/html": [
       "<div>\n",
       "<style scoped>\n",
       "    .dataframe tbody tr th:only-of-type {\n",
       "        vertical-align: middle;\n",
       "    }\n",
       "\n",
       "    .dataframe tbody tr th {\n",
       "        vertical-align: top;\n",
       "    }\n",
       "\n",
       "    .dataframe thead th {\n",
       "        text-align: right;\n",
       "    }\n",
       "</style>\n",
       "<table border=\"1\" class=\"dataframe\">\n",
       "  <thead>\n",
       "    <tr style=\"text-align: right;\">\n",
       "      <th></th>\n",
       "      <th>date</th>\n",
       "      <th>time</th>\n",
       "      <th>ticket_number</th>\n",
       "      <th>article</th>\n",
       "      <th>Quantity</th>\n",
       "      <th>unit_price</th>\n",
       "      <th>Price in Rupiah</th>\n",
       "      <th>Total Price</th>\n",
       "    </tr>\n",
       "  </thead>\n",
       "  <tbody>\n",
       "    <tr>\n",
       "      <th>234000</th>\n",
       "      <td>2022-09-30</td>\n",
       "      <td>18:52:00</td>\n",
       "      <td>288911.0</td>\n",
       "      <td>COUPE</td>\n",
       "      <td>1</td>\n",
       "      <td>0.15</td>\n",
       "      <td>2425.95</td>\n",
       "      <td>2425.95</td>\n",
       "    </tr>\n",
       "    <tr>\n",
       "      <th>234001</th>\n",
       "      <td>2022-09-30</td>\n",
       "      <td>18:52:00</td>\n",
       "      <td>288911.0</td>\n",
       "      <td>BOULE 200G</td>\n",
       "      <td>1</td>\n",
       "      <td>1.20</td>\n",
       "      <td>19407.60</td>\n",
       "      <td>19407.60</td>\n",
       "    </tr>\n",
       "    <tr>\n",
       "      <th>234002</th>\n",
       "      <td>2022-09-30</td>\n",
       "      <td>18:52:00</td>\n",
       "      <td>288911.0</td>\n",
       "      <td>COUPE</td>\n",
       "      <td>2</td>\n",
       "      <td>0.15</td>\n",
       "      <td>2425.95</td>\n",
       "      <td>4851.90</td>\n",
       "    </tr>\n",
       "    <tr>\n",
       "      <th>234003</th>\n",
       "      <td>2022-09-30</td>\n",
       "      <td>18:55:00</td>\n",
       "      <td>288912.0</td>\n",
       "      <td>TRADITIONAL BAGUETTE</td>\n",
       "      <td>1</td>\n",
       "      <td>1.30</td>\n",
       "      <td>21024.90</td>\n",
       "      <td>21024.90</td>\n",
       "    </tr>\n",
       "    <tr>\n",
       "      <th>234004</th>\n",
       "      <td>2022-09-30</td>\n",
       "      <td>18:56:00</td>\n",
       "      <td>288913.0</td>\n",
       "      <td>TRADITIONAL BAGUETTE</td>\n",
       "      <td>1</td>\n",
       "      <td>1.30</td>\n",
       "      <td>21024.90</td>\n",
       "      <td>21024.90</td>\n",
       "    </tr>\n",
       "  </tbody>\n",
       "</table>\n",
       "</div>"
      ],
      "text/plain": [
       "             date      time  ticket_number               article  Quantity  \\\n",
       "234000 2022-09-30  18:52:00       288911.0                 COUPE         1   \n",
       "234001 2022-09-30  18:52:00       288911.0            BOULE 200G         1   \n",
       "234002 2022-09-30  18:52:00       288911.0                 COUPE         2   \n",
       "234003 2022-09-30  18:55:00       288912.0  TRADITIONAL BAGUETTE         1   \n",
       "234004 2022-09-30  18:56:00       288913.0  TRADITIONAL BAGUETTE         1   \n",
       "\n",
       "        unit_price  Price in Rupiah  Total Price  \n",
       "234000        0.15          2425.95      2425.95  \n",
       "234001        1.20         19407.60     19407.60  \n",
       "234002        0.15          2425.95      4851.90  \n",
       "234003        1.30         21024.90     21024.90  \n",
       "234004        1.30         21024.90     21024.90  "
      ]
     },
     "execution_count": 4,
     "metadata": {},
     "output_type": "execute_result"
    }
   ],
   "source": [
    "data.tail()"
   ]
  },
  {
   "cell_type": "code",
   "execution_count": 5,
   "id": "ae9606ca",
   "metadata": {},
   "outputs": [
    {
     "data": {
      "text/html": [
       "<div>\n",
       "<style scoped>\n",
       "    .dataframe tbody tr th:only-of-type {\n",
       "        vertical-align: middle;\n",
       "    }\n",
       "\n",
       "    .dataframe tbody tr th {\n",
       "        vertical-align: top;\n",
       "    }\n",
       "\n",
       "    .dataframe thead th {\n",
       "        text-align: right;\n",
       "    }\n",
       "</style>\n",
       "<table border=\"1\" class=\"dataframe\">\n",
       "  <thead>\n",
       "    <tr style=\"text-align: right;\">\n",
       "      <th></th>\n",
       "      <th>date</th>\n",
       "      <th>time</th>\n",
       "      <th>ticket_number</th>\n",
       "      <th>article</th>\n",
       "      <th>Quantity</th>\n",
       "      <th>unit_price</th>\n",
       "      <th>Price in Rupiah</th>\n",
       "      <th>Total Price</th>\n",
       "    </tr>\n",
       "  </thead>\n",
       "  <tbody>\n",
       "    <tr>\n",
       "      <th>158723</th>\n",
       "      <td>2022-04-17</td>\n",
       "      <td>11:20:00</td>\n",
       "      <td>243889.0</td>\n",
       "      <td>COUPE</td>\n",
       "      <td>1</td>\n",
       "      <td>0.15</td>\n",
       "      <td>2425.95</td>\n",
       "      <td>2425.95</td>\n",
       "    </tr>\n",
       "    <tr>\n",
       "      <th>89870</th>\n",
       "      <td>2021-08-22</td>\n",
       "      <td>09:08:00</td>\n",
       "      <td>202559.0</td>\n",
       "      <td>TRADITIONAL BAGUETTE</td>\n",
       "      <td>1</td>\n",
       "      <td>1.20</td>\n",
       "      <td>19407.60</td>\n",
       "      <td>19407.60</td>\n",
       "    </tr>\n",
       "    <tr>\n",
       "      <th>76025</th>\n",
       "      <td>2021-08-02</td>\n",
       "      <td>08:53:00</td>\n",
       "      <td>194739.0</td>\n",
       "      <td>BAGUETTE</td>\n",
       "      <td>1</td>\n",
       "      <td>0.90</td>\n",
       "      <td>14555.70</td>\n",
       "      <td>14555.70</td>\n",
       "    </tr>\n",
       "    <tr>\n",
       "      <th>169750</th>\n",
       "      <td>2022-05-18</td>\n",
       "      <td>12:51:00</td>\n",
       "      <td>250601.0</td>\n",
       "      <td>TRAITEUR</td>\n",
       "      <td>1</td>\n",
       "      <td>15.60</td>\n",
       "      <td>252298.80</td>\n",
       "      <td>252298.80</td>\n",
       "    </tr>\n",
       "    <tr>\n",
       "      <th>180696</th>\n",
       "      <td>2022-06-14</td>\n",
       "      <td>07:56:00</td>\n",
       "      <td>257086.0</td>\n",
       "      <td>TRADITIONAL BAGUETTE</td>\n",
       "      <td>3</td>\n",
       "      <td>1.25</td>\n",
       "      <td>20216.25</td>\n",
       "      <td>60648.75</td>\n",
       "    </tr>\n",
       "  </tbody>\n",
       "</table>\n",
       "</div>"
      ],
      "text/plain": [
       "             date      time  ticket_number               article  Quantity  \\\n",
       "158723 2022-04-17  11:20:00       243889.0                 COUPE         1   \n",
       "89870  2021-08-22  09:08:00       202559.0  TRADITIONAL BAGUETTE         1   \n",
       "76025  2021-08-02  08:53:00       194739.0              BAGUETTE         1   \n",
       "169750 2022-05-18  12:51:00       250601.0              TRAITEUR         1   \n",
       "180696 2022-06-14  07:56:00       257086.0  TRADITIONAL BAGUETTE         3   \n",
       "\n",
       "        unit_price  Price in Rupiah  Total Price  \n",
       "158723        0.15          2425.95      2425.95  \n",
       "89870         1.20         19407.60     19407.60  \n",
       "76025         0.90         14555.70     14555.70  \n",
       "169750       15.60        252298.80    252298.80  \n",
       "180696        1.25         20216.25     60648.75  "
      ]
     },
     "execution_count": 5,
     "metadata": {},
     "output_type": "execute_result"
    }
   ],
   "source": [
    "data.sample(5)"
   ]
  },
  {
   "cell_type": "code",
   "execution_count": 6,
   "id": "1c1506fe",
   "metadata": {},
   "outputs": [
    {
     "name": "stdout",
     "output_type": "stream",
     "text": [
      "<class 'pandas.core.frame.DataFrame'>\n",
      "RangeIndex: 234005 entries, 0 to 234004\n",
      "Data columns (total 8 columns):\n",
      " #   Column           Non-Null Count   Dtype         \n",
      "---  ------           --------------   -----         \n",
      " 0   date             234005 non-null  datetime64[ns]\n",
      " 1   time             234005 non-null  object        \n",
      " 2   ticket_number    234005 non-null  float64       \n",
      " 3   article          234005 non-null  object        \n",
      " 4   Quantity         234005 non-null  int64         \n",
      " 5   unit_price       234005 non-null  float64       \n",
      " 6   Price in Rupiah  234005 non-null  float64       \n",
      " 7   Total Price      234005 non-null  float64       \n",
      "dtypes: datetime64[ns](1), float64(4), int64(1), object(2)\n",
      "memory usage: 14.3+ MB\n"
     ]
    }
   ],
   "source": [
    "data.info()"
   ]
  },
  {
   "cell_type": "code",
   "execution_count": 7,
   "id": "b5955d25",
   "metadata": {},
   "outputs": [],
   "source": [
    "data['time'] = pd.to_datetime(data['time'], format = \"%H:%M:%S\").dt.time"
   ]
  },
  {
   "cell_type": "code",
   "execution_count": 11,
   "id": "2858552d",
   "metadata": {
    "scrolled": false
   },
   "outputs": [
    {
     "data": {
      "text/html": [
       "<div>\n",
       "<style scoped>\n",
       "    .dataframe tbody tr th:only-of-type {\n",
       "        vertical-align: middle;\n",
       "    }\n",
       "\n",
       "    .dataframe tbody tr th {\n",
       "        vertical-align: top;\n",
       "    }\n",
       "\n",
       "    .dataframe thead th {\n",
       "        text-align: right;\n",
       "    }\n",
       "</style>\n",
       "<table border=\"1\" class=\"dataframe\">\n",
       "  <thead>\n",
       "    <tr style=\"text-align: right;\">\n",
       "      <th></th>\n",
       "      <th>date</th>\n",
       "      <th>time</th>\n",
       "      <th>ticket_number</th>\n",
       "      <th>article</th>\n",
       "      <th>Quantity</th>\n",
       "      <th>unit_price</th>\n",
       "      <th>Price in Rupiah</th>\n",
       "      <th>Total Price</th>\n",
       "    </tr>\n",
       "  </thead>\n",
       "  <tbody>\n",
       "    <tr>\n",
       "      <th>2</th>\n",
       "      <td>2021-01-02</td>\n",
       "      <td>09:14:00</td>\n",
       "      <td>150041.0</td>\n",
       "      <td>PAIN AU CHOCOLAT</td>\n",
       "      <td>2</td>\n",
       "      <td>1.20</td>\n",
       "      <td>19407.60</td>\n",
       "      <td>38815.20</td>\n",
       "    </tr>\n",
       "    <tr>\n",
       "      <th>3</th>\n",
       "      <td>2021-01-02</td>\n",
       "      <td>09:14:00</td>\n",
       "      <td>150041.0</td>\n",
       "      <td>PAIN</td>\n",
       "      <td>1</td>\n",
       "      <td>1.15</td>\n",
       "      <td>18598.95</td>\n",
       "      <td>18598.95</td>\n",
       "    </tr>\n",
       "    <tr>\n",
       "      <th>1189</th>\n",
       "      <td>2021-01-07</td>\n",
       "      <td>09:13:00</td>\n",
       "      <td>150756.0</td>\n",
       "      <td>BAGUETTE</td>\n",
       "      <td>1</td>\n",
       "      <td>0.90</td>\n",
       "      <td>14555.70</td>\n",
       "      <td>14555.70</td>\n",
       "    </tr>\n",
       "    <tr>\n",
       "      <th>1928</th>\n",
       "      <td>2021-01-10</td>\n",
       "      <td>09:14:00</td>\n",
       "      <td>151217.0</td>\n",
       "      <td>PAIN AU CHOCOLAT</td>\n",
       "      <td>2</td>\n",
       "      <td>1.20</td>\n",
       "      <td>19407.60</td>\n",
       "      <td>38815.20</td>\n",
       "    </tr>\n",
       "    <tr>\n",
       "      <th>1929</th>\n",
       "      <td>2021-01-10</td>\n",
       "      <td>09:14:00</td>\n",
       "      <td>151217.0</td>\n",
       "      <td>CROISSANT</td>\n",
       "      <td>1</td>\n",
       "      <td>1.10</td>\n",
       "      <td>17790.30</td>\n",
       "      <td>17790.30</td>\n",
       "    </tr>\n",
       "    <tr>\n",
       "      <th>...</th>\n",
       "      <td>...</td>\n",
       "      <td>...</td>\n",
       "      <td>...</td>\n",
       "      <td>...</td>\n",
       "      <td>...</td>\n",
       "      <td>...</td>\n",
       "      <td>...</td>\n",
       "      <td>...</td>\n",
       "    </tr>\n",
       "    <tr>\n",
       "      <th>231688</th>\n",
       "      <td>2022-09-24</td>\n",
       "      <td>09:13:00</td>\n",
       "      <td>287472.0</td>\n",
       "      <td>PAIN AU CHOCOLAT</td>\n",
       "      <td>4</td>\n",
       "      <td>1.30</td>\n",
       "      <td>21024.90</td>\n",
       "      <td>84099.60</td>\n",
       "    </tr>\n",
       "    <tr>\n",
       "      <th>231689</th>\n",
       "      <td>2022-09-24</td>\n",
       "      <td>09:13:00</td>\n",
       "      <td>287472.0</td>\n",
       "      <td>BOULE POLKA</td>\n",
       "      <td>1</td>\n",
       "      <td>1.80</td>\n",
       "      <td>29111.40</td>\n",
       "      <td>29111.40</td>\n",
       "    </tr>\n",
       "    <tr>\n",
       "      <th>231690</th>\n",
       "      <td>2022-09-24</td>\n",
       "      <td>09:14:00</td>\n",
       "      <td>287473.0</td>\n",
       "      <td>BAGUETTE</td>\n",
       "      <td>2</td>\n",
       "      <td>1.00</td>\n",
       "      <td>16173.00</td>\n",
       "      <td>32346.00</td>\n",
       "    </tr>\n",
       "    <tr>\n",
       "      <th>231691</th>\n",
       "      <td>2022-09-24</td>\n",
       "      <td>09:14:00</td>\n",
       "      <td>287473.0</td>\n",
       "      <td>CAMPAGNE</td>\n",
       "      <td>1</td>\n",
       "      <td>2.00</td>\n",
       "      <td>32346.00</td>\n",
       "      <td>32346.00</td>\n",
       "    </tr>\n",
       "    <tr>\n",
       "      <th>231692</th>\n",
       "      <td>2022-09-24</td>\n",
       "      <td>09:14:00</td>\n",
       "      <td>287473.0</td>\n",
       "      <td>COUPE</td>\n",
       "      <td>1</td>\n",
       "      <td>0.15</td>\n",
       "      <td>2425.95</td>\n",
       "      <td>2425.95</td>\n",
       "    </tr>\n",
       "  </tbody>\n",
       "</table>\n",
       "<p>1043 rows × 8 columns</p>\n",
       "</div>"
      ],
      "text/plain": [
       "             date      time  ticket_number           article  Quantity  \\\n",
       "2      2021-01-02  09:14:00       150041.0  PAIN AU CHOCOLAT         2   \n",
       "3      2021-01-02  09:14:00       150041.0              PAIN         1   \n",
       "1189   2021-01-07  09:13:00       150756.0          BAGUETTE         1   \n",
       "1928   2021-01-10  09:14:00       151217.0  PAIN AU CHOCOLAT         2   \n",
       "1929   2021-01-10  09:14:00       151217.0         CROISSANT         1   \n",
       "...           ...       ...            ...               ...       ...   \n",
       "231688 2022-09-24  09:13:00       287472.0  PAIN AU CHOCOLAT         4   \n",
       "231689 2022-09-24  09:13:00       287472.0       BOULE POLKA         1   \n",
       "231690 2022-09-24  09:14:00       287473.0          BAGUETTE         2   \n",
       "231691 2022-09-24  09:14:00       287473.0          CAMPAGNE         1   \n",
       "231692 2022-09-24  09:14:00       287473.0             COUPE         1   \n",
       "\n",
       "        unit_price  Price in Rupiah  Total Price  \n",
       "2             1.20         19407.60     38815.20  \n",
       "3             1.15         18598.95     18598.95  \n",
       "1189          0.90         14555.70     14555.70  \n",
       "1928          1.20         19407.60     38815.20  \n",
       "1929          1.10         17790.30     17790.30  \n",
       "...            ...              ...          ...  \n",
       "231688        1.30         21024.90     84099.60  \n",
       "231689        1.80         29111.40     29111.40  \n",
       "231690        1.00         16173.00     32346.00  \n",
       "231691        2.00         32346.00     32346.00  \n",
       "231692        0.15          2425.95      2425.95  \n",
       "\n",
       "[1043 rows x 8 columns]"
      ]
     },
     "execution_count": 11,
     "metadata": {},
     "output_type": "execute_result"
    }
   ],
   "source": [
    "data.loc[\n",
    "    (data['time'] >= time(9,13,0))  & (data['time'] <=  time(9,14,0))\n",
    "]"
   ]
  },
  {
   "cell_type": "code",
   "execution_count": null,
   "id": "1b459de2",
   "metadata": {},
   "outputs": [],
   "source": []
  },
  {
   "cell_type": "markdown",
   "id": "7832777c",
   "metadata": {},
   "source": [
    "Didapatkan informasi bahwa adanya 234 ribu baris dan 8 kolom dalam data bakery, akan tetapi ada beberapa masalah\n",
    "\n",
    "1. kolom waktu mempunyai format data yang salah\n",
    "2. ticket_number dirubah ke bentuk integer saja"
   ]
  },
  {
   "cell_type": "code",
   "execution_count": 12,
   "id": "a6bbc418",
   "metadata": {},
   "outputs": [
    {
     "data": {
      "text/plain": [
       "0         150040\n",
       "1         150040\n",
       "2         150041\n",
       "3         150041\n",
       "4         150042\n",
       "           ...  \n",
       "234000    288911\n",
       "234001    288911\n",
       "234002    288911\n",
       "234003    288912\n",
       "234004    288913\n",
       "Name: ticket_number, Length: 234005, dtype: int64"
      ]
     },
     "execution_count": 12,
     "metadata": {},
     "output_type": "execute_result"
    }
   ],
   "source": [
    "data['ticket_number'].astype('int64')"
   ]
  },
  {
   "cell_type": "code",
   "execution_count": 13,
   "id": "8e1d39c7",
   "metadata": {
    "scrolled": true
   },
   "outputs": [
    {
     "name": "stdout",
     "output_type": "stream",
     "text": [
      "<class 'pandas.core.frame.DataFrame'>\n",
      "RangeIndex: 234005 entries, 0 to 234004\n",
      "Data columns (total 8 columns):\n",
      " #   Column           Non-Null Count   Dtype         \n",
      "---  ------           --------------   -----         \n",
      " 0   date             234005 non-null  datetime64[ns]\n",
      " 1   time             234005 non-null  object        \n",
      " 2   ticket_number    234005 non-null  float64       \n",
      " 3   article          234005 non-null  object        \n",
      " 4   Quantity         234005 non-null  int64         \n",
      " 5   unit_price       234005 non-null  float64       \n",
      " 6   Price in Rupiah  234005 non-null  float64       \n",
      " 7   Total Price      234005 non-null  float64       \n",
      "dtypes: datetime64[ns](1), float64(4), int64(1), object(2)\n",
      "memory usage: 14.3+ MB\n"
     ]
    }
   ],
   "source": [
    "data.info()"
   ]
  },
  {
   "cell_type": "code",
   "execution_count": null,
   "id": "4de95ba0",
   "metadata": {},
   "outputs": [],
   "source": []
  },
  {
   "cell_type": "markdown",
   "id": "0857ab46",
   "metadata": {},
   "source": [
    "Pengecekan data null dan data yang terduplikasi"
   ]
  },
  {
   "cell_type": "code",
   "execution_count": 14,
   "id": "b104b97d",
   "metadata": {},
   "outputs": [
    {
     "data": {
      "text/plain": [
       "date               0\n",
       "time               0\n",
       "ticket_number      0\n",
       "article            0\n",
       "Quantity           0\n",
       "unit_price         0\n",
       "Price in Rupiah    0\n",
       "Total Price        0\n",
       "dtype: int64"
      ]
     },
     "execution_count": 14,
     "metadata": {},
     "output_type": "execute_result"
    }
   ],
   "source": [
    "data.isnull().sum()"
   ]
  },
  {
   "cell_type": "code",
   "execution_count": 15,
   "id": "f8bb4bda",
   "metadata": {},
   "outputs": [
    {
     "data": {
      "text/plain": [
       "1210"
      ]
     },
     "execution_count": 15,
     "metadata": {},
     "output_type": "execute_result"
    }
   ],
   "source": [
    "data.duplicated().sum()"
   ]
  },
  {
   "cell_type": "markdown",
   "id": "4692921c",
   "metadata": {},
   "source": [
    "adanya data yang terduplikasi dan perlu dicek terlebih dahulu duplikasi seperti apa yang ada di dalam data"
   ]
  },
  {
   "cell_type": "code",
   "execution_count": 16,
   "id": "04bdd71a",
   "metadata": {},
   "outputs": [
    {
     "data": {
      "text/html": [
       "<div>\n",
       "<style scoped>\n",
       "    .dataframe tbody tr th:only-of-type {\n",
       "        vertical-align: middle;\n",
       "    }\n",
       "\n",
       "    .dataframe tbody tr th {\n",
       "        vertical-align: top;\n",
       "    }\n",
       "\n",
       "    .dataframe thead th {\n",
       "        text-align: right;\n",
       "    }\n",
       "</style>\n",
       "<table border=\"1\" class=\"dataframe\">\n",
       "  <thead>\n",
       "    <tr style=\"text-align: right;\">\n",
       "      <th></th>\n",
       "      <th>date</th>\n",
       "      <th>time</th>\n",
       "      <th>ticket_number</th>\n",
       "      <th>article</th>\n",
       "      <th>Quantity</th>\n",
       "      <th>unit_price</th>\n",
       "      <th>Price in Rupiah</th>\n",
       "      <th>Total Price</th>\n",
       "    </tr>\n",
       "  </thead>\n",
       "  <tbody>\n",
       "    <tr>\n",
       "      <th>36</th>\n",
       "      <td>2021-01-02</td>\n",
       "      <td>10:12:00</td>\n",
       "      <td>150061.0</td>\n",
       "      <td>COUPE</td>\n",
       "      <td>1</td>\n",
       "      <td>0.15</td>\n",
       "      <td>2425.95</td>\n",
       "      <td>2425.95</td>\n",
       "    </tr>\n",
       "    <tr>\n",
       "      <th>43</th>\n",
       "      <td>2021-01-02</td>\n",
       "      <td>10:18:00</td>\n",
       "      <td>150063.0</td>\n",
       "      <td>COUPE</td>\n",
       "      <td>1</td>\n",
       "      <td>0.15</td>\n",
       "      <td>2425.95</td>\n",
       "      <td>2425.95</td>\n",
       "    </tr>\n",
       "    <tr>\n",
       "      <th>219</th>\n",
       "      <td>2021-01-02</td>\n",
       "      <td>12:23:00</td>\n",
       "      <td>150154.0</td>\n",
       "      <td>TRADITIONAL BAGUETTE</td>\n",
       "      <td>1</td>\n",
       "      <td>1.20</td>\n",
       "      <td>19407.60</td>\n",
       "      <td>19407.60</td>\n",
       "    </tr>\n",
       "    <tr>\n",
       "      <th>229</th>\n",
       "      <td>2021-01-02</td>\n",
       "      <td>12:28:00</td>\n",
       "      <td>150159.0</td>\n",
       "      <td>COUPE</td>\n",
       "      <td>1</td>\n",
       "      <td>0.15</td>\n",
       "      <td>2425.95</td>\n",
       "      <td>2425.95</td>\n",
       "    </tr>\n",
       "    <tr>\n",
       "      <th>323</th>\n",
       "      <td>2021-01-02</td>\n",
       "      <td>13:17:00</td>\n",
       "      <td>150206.0</td>\n",
       "      <td>COUPE</td>\n",
       "      <td>1</td>\n",
       "      <td>0.15</td>\n",
       "      <td>2425.95</td>\n",
       "      <td>2425.95</td>\n",
       "    </tr>\n",
       "    <tr>\n",
       "      <th>...</th>\n",
       "      <td>...</td>\n",
       "      <td>...</td>\n",
       "      <td>...</td>\n",
       "      <td>...</td>\n",
       "      <td>...</td>\n",
       "      <td>...</td>\n",
       "      <td>...</td>\n",
       "      <td>...</td>\n",
       "    </tr>\n",
       "    <tr>\n",
       "      <th>233673</th>\n",
       "      <td>2022-09-30</td>\n",
       "      <td>07:49:00</td>\n",
       "      <td>288719.0</td>\n",
       "      <td>COUPE</td>\n",
       "      <td>1</td>\n",
       "      <td>0.15</td>\n",
       "      <td>2425.95</td>\n",
       "      <td>2425.95</td>\n",
       "    </tr>\n",
       "    <tr>\n",
       "      <th>233674</th>\n",
       "      <td>2022-09-30</td>\n",
       "      <td>07:49:00</td>\n",
       "      <td>288719.0</td>\n",
       "      <td>SEIGLE</td>\n",
       "      <td>1</td>\n",
       "      <td>2.00</td>\n",
       "      <td>32346.00</td>\n",
       "      <td>32346.00</td>\n",
       "    </tr>\n",
       "    <tr>\n",
       "      <th>233675</th>\n",
       "      <td>2022-09-30</td>\n",
       "      <td>07:49:00</td>\n",
       "      <td>288719.0</td>\n",
       "      <td>COUPE</td>\n",
       "      <td>1</td>\n",
       "      <td>0.15</td>\n",
       "      <td>2425.95</td>\n",
       "      <td>2425.95</td>\n",
       "    </tr>\n",
       "    <tr>\n",
       "      <th>233744</th>\n",
       "      <td>2022-09-30</td>\n",
       "      <td>09:45:00</td>\n",
       "      <td>288757.0</td>\n",
       "      <td>COUPE</td>\n",
       "      <td>1</td>\n",
       "      <td>0.15</td>\n",
       "      <td>2425.95</td>\n",
       "      <td>2425.95</td>\n",
       "    </tr>\n",
       "    <tr>\n",
       "      <th>233932</th>\n",
       "      <td>2022-09-30</td>\n",
       "      <td>16:02:00</td>\n",
       "      <td>288867.0</td>\n",
       "      <td>COUPE</td>\n",
       "      <td>1</td>\n",
       "      <td>0.15</td>\n",
       "      <td>2425.95</td>\n",
       "      <td>2425.95</td>\n",
       "    </tr>\n",
       "  </tbody>\n",
       "</table>\n",
       "<p>1210 rows × 8 columns</p>\n",
       "</div>"
      ],
      "text/plain": [
       "             date      time  ticket_number               article  Quantity  \\\n",
       "36     2021-01-02  10:12:00       150061.0                 COUPE         1   \n",
       "43     2021-01-02  10:18:00       150063.0                 COUPE         1   \n",
       "219    2021-01-02  12:23:00       150154.0  TRADITIONAL BAGUETTE         1   \n",
       "229    2021-01-02  12:28:00       150159.0                 COUPE         1   \n",
       "323    2021-01-02  13:17:00       150206.0                 COUPE         1   \n",
       "...           ...       ...            ...                   ...       ...   \n",
       "233673 2022-09-30  07:49:00       288719.0                 COUPE         1   \n",
       "233674 2022-09-30  07:49:00       288719.0                SEIGLE         1   \n",
       "233675 2022-09-30  07:49:00       288719.0                 COUPE         1   \n",
       "233744 2022-09-30  09:45:00       288757.0                 COUPE         1   \n",
       "233932 2022-09-30  16:02:00       288867.0                 COUPE         1   \n",
       "\n",
       "        unit_price  Price in Rupiah  Total Price  \n",
       "36            0.15          2425.95      2425.95  \n",
       "43            0.15          2425.95      2425.95  \n",
       "219           1.20         19407.60     19407.60  \n",
       "229           0.15          2425.95      2425.95  \n",
       "323           0.15          2425.95      2425.95  \n",
       "...            ...              ...          ...  \n",
       "233673        0.15          2425.95      2425.95  \n",
       "233674        2.00         32346.00     32346.00  \n",
       "233675        0.15          2425.95      2425.95  \n",
       "233744        0.15          2425.95      2425.95  \n",
       "233932        0.15          2425.95      2425.95  \n",
       "\n",
       "[1210 rows x 8 columns]"
      ]
     },
     "execution_count": 16,
     "metadata": {},
     "output_type": "execute_result"
    }
   ],
   "source": [
    "data[data.duplicated()]"
   ]
  },
  {
   "cell_type": "markdown",
   "id": "80016878",
   "metadata": {},
   "source": [
    "data tersebut terduplikasi di kolom article dan quantity, akan tetapi mempunyai perbedaan pada kolom tanggal, waktu, dan kolom lainnya menandakan hanya pemesanan yang berbeda saja dan tidak menjadi masalah"
   ]
  },
  {
   "cell_type": "code",
   "execution_count": null,
   "id": "ed4287fb",
   "metadata": {},
   "outputs": [],
   "source": []
  },
  {
   "cell_type": "code",
   "execution_count": 17,
   "id": "1c355b9c",
   "metadata": {
    "scrolled": false
   },
   "outputs": [
    {
     "name": "stdout",
     "output_type": "stream",
     "text": [
      "Total Unique Value in Column date  is 600\n",
      "Total Unique Value in Column time  is 683\n",
      "Total Unique Value in Column ticket_number  is 136451\n",
      "Total Unique Value in Column article  is 149\n",
      "Total Unique Value in Column Quantity  is 40\n",
      "Total Unique Value in Column unit_price  is 123\n",
      "Total Unique Value in Column Price in Rupiah  is 123\n",
      "Total Unique Value in Column Total Price  is 370\n"
     ]
    }
   ],
   "source": [
    "for column in data.columns:\n",
    "    print('Total Unique Value in Column', column, ' is', data[column].nunique())"
   ]
  },
  {
   "cell_type": "code",
   "execution_count": null,
   "id": "4508ede0",
   "metadata": {},
   "outputs": [],
   "source": []
  },
  {
   "cell_type": "markdown",
   "id": "dedb6893",
   "metadata": {},
   "source": [
    "# Analisis "
   ]
  },
  {
   "cell_type": "code",
   "execution_count": 125,
   "id": "c0c49b92",
   "metadata": {},
   "outputs": [
    {
     "data": {
      "image/png": "[encoded data removed]",
      "text/plain": [
       "<Figure size 432x288 with 1 Axes>"
      ]
     },
     "metadata": {},
     "output_type": "display_data"
    }
   ],
   "source": [
    "# Menghitung frekuensi kemunculan setiap nilai dalam kolom 'article' dan mengambil 5 nilai teratas\n",
    "value_counts = data['article'].value_counts().head(5)\n",
    "\n",
    "# Mengurutkan nilai berdasarkan frekuensi secara menaik\n",
    "sorted_values = value_counts.sort_values(ascending=True)\n",
    "\n",
    "# Membuat plot pie dengan konfigurasi tambahan\n",
    "sorted_values.plot(\n",
    "    kind='pie',\n",
    "    autopct='%1.2f%%',\n",
    "    explode=[0, 0, 0, 0, 0.1],  # Menggeser potongan (slice) kelima\n",
    "    startangle=40  # Sudut awal rotasi potongan (slice)\n",
    ")\n",
    "\n",
    "# Menambahkan label pada sumbu y (article) dengan posisi di atas\n",
    "plt.ylabel('article', loc='top', rotation=0)\n",
    "\n",
    "# Menampilkan plot\n",
    "plt.show()\n"
   ]
  },
  {
   "cell_type": "markdown",
   "id": "7fd281ee",
   "metadata": {},
   "source": [
    "Berdasarkan hasil analisis, bahwa orderan terbanyak jatuh kepada roti 'Traditional Baguette' dan disusul dengan roti 'Coupe' walaupun persentase antara mereka cukup besar"
   ]
  },
  {
   "cell_type": "code",
   "execution_count": 128,
   "id": "a59ff0fa",
   "metadata": {},
   "outputs": [
    {
     "data": {
      "image/png": "[encoded data removed]",
      "text/plain": [
       "<Figure size 432x288 with 1 Axes>"
      ]
     },
     "metadata": {
      "needs_background": "light"
     },
     "output_type": "display_data"
    }
   ],
   "source": [
    "# Membuat pivot table dengan menggunakan fungsi agregasi sum pada kolom 'Quantity'\n",
    "pivot = pd.pivot_table(\n",
    "    data,\n",
    "    values='Quantity',\n",
    "    index='article',\n",
    "    aggfunc=np.sum\n",
    ")\n",
    "\n",
    "# Mengurutkan nilai pivot table berdasarkan 'Quantity' secara menurun (descending) dan mengambil 5 nilai teratas\n",
    "top_5 = pivot.sort_values(by='Quantity', ascending=False).head(5)\n",
    "\n",
    "# Membuat plot jenis bar dari 5 nilai teratas\n",
    "top_5.plot(kind='bar')\n",
    "\n",
    "# Mengatur rotasi label sumbu x agar tidak tumpang tindih\n",
    "plt.xticks(rotation=50)\n",
    "\n",
    "# Menampilkan plot\n",
    "plt.show()\n"
   ]
  },
  {
   "cell_type": "code",
   "execution_count": 129,
   "id": "c81a05d3",
   "metadata": {},
   "outputs": [
    {
     "name": "stderr",
     "output_type": "stream",
     "text": [
      "C:\\Users\\ASUS\\AppData\\Local\\Temp/ipykernel_9508/3205522695.py:2: FutureWarning: The default value of numeric_only in DataFrameGroupBy.sum is deprecated. In a future version, numeric_only will default to False. Either specify numeric_only or select only columns which should be valid for the function.\n",
      "  data_weekly = data.resample('w', on='date').sum()\n"
     ]
    },
    {
     "data": {
      "image/png": "[encoded data removed]",
      "text/plain": [
       "<Figure size 432x288 with 1 Axes>"
      ]
     },
     "metadata": {
      "needs_background": "light"
     },
     "output_type": "display_data"
    }
   ],
   "source": [
    "# Mengelompokkan data per minggu dan menghitung jumlah Quantity\n",
    "data_weekly = data.resample('w', on='date').sum()\n",
    "\n",
    "# Plot line chart\n",
    "sns.lineplot(x=data_weekly.index, y='Quantity', data=data_weekly)\n",
    "\n",
    "# Mengatur rotasi label sumbu x agar tidak tumpang tindih\n",
    "plt.xticks(rotation=70)\n",
    "\n",
    "# Menampilkan grid pada plot\n",
    "plt.grid(True)\n",
    "\n",
    "# Menampilkan plot\n",
    "plt.show()\n"
   ]
  },
  {
   "cell_type": "code",
   "execution_count": 130,
   "id": "7fbd0543",
   "metadata": {},
   "outputs": [
    {
     "name": "stderr",
     "output_type": "stream",
     "text": [
      "C:\\Users\\ASUS\\AppData\\Local\\Temp/ipykernel_9508/617872474.py:2: FutureWarning: The default value of numeric_only in DataFrameGroupBy.sum is deprecated. In a future version, numeric_only will default to False. Either specify numeric_only or select only columns which should be valid for the function.\n",
      "  data_monthly = data.resample('M', on='date').sum()\n"
     ]
    },
    {
     "data": {
      "image/png": "[encoded data removed]",
      "text/plain": [
       "<Figure size 432x288 with 1 Axes>"
      ]
     },
     "metadata": {
      "needs_background": "light"
     },
     "output_type": "display_data"
    }
   ],
   "source": [
    "# Mengelompokkan data per bulan dan menghitung jumlah Quantity\n",
    "data_monthly = data.resample('M', on='date').sum()\n",
    "\n",
    "# Plot line chart\n",
    "sns.lineplot(x=data_monthly.index, y='Quantity', data=data_monthly)\n",
    "\n",
    "# Menambahkan teks nilai pada setiap titik data\n",
    "for i in range(len(data_monthly)):\n",
    "    plt.text(data_monthly.index[i], data_monthly['Quantity'].iloc[i], str(data_monthly['Quantity'].iloc[i]), ha='center', va='bottom')\n",
    "\n",
    "# Mengatur rotasi label sumbu x agar tidak tumpang tindih\n",
    "plt.xticks(rotation=70)\n",
    "\n",
    "# Menampilkan grid pada plot\n",
    "plt.grid(True)\n",
    "\n",
    "# Menampilkan plot\n",
    "plt.show()\n"
   ]
  },
  {
   "cell_type": "code",
   "execution_count": 145,
   "id": "7d07445e",
   "metadata": {},
   "outputs": [
    {
     "data": {
      "image/png": "[encoded data removed]",
      "text/plain": [
       "<Figure size 432x288 with 1 Axes>"
      ]
     },
     "metadata": {},
     "output_type": "display_data"
    }
   ],
   "source": [
    "# Mengelompokkan data berdasarkan bulan dan menjumlahkan kolom 'Total Price'\n",
    "result = data.groupby(data['date'].dt.month)['Total Price'].sum()\n",
    "\n",
    "# Tampilkan hasil dalam bentuk pie chart dengan persentase\n",
    "result.plot(kind='pie', autopct='%1.2f%%', explode = [0,0,0,0,0,0,0,0.15,0,0,0,0])\n",
    "\n",
    "# Menampilkan plot\n",
    "plt.show()\n"
   ]
  },
  {
   "cell_type": "code",
   "execution_count": null,
   "id": "66ae0a23",
   "metadata": {},
   "outputs": [],
   "source": []
  }
 ],
 "metadata": {
  "kernelspec": {
   "display_name": "Python 3 (ipykernel)",
   "language": "python",
   "name": "python3"
  },
  "language_info": {
   "codemirror_mode": {
    "name": "ipython",
    "version": 3
   },
   "file_extension": ".py",
   "mimetype": "text/x-python",
   "name": "python",
   "nbconvert_exporter": "python",
   "pygments_lexer": "ipython3",
   "version": "3.9.7"
  }
 },
 "nbformat": 4,
 "nbformat_minor": 5
}
